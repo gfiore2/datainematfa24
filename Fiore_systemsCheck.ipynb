{
 "cells": [
  {
   "cell_type": "markdown",
   "id": "054cc7bc-bc46-4bb5-98e2-f526e216c1c2",
   "metadata": {},
   "source": [
    "# Systems Check\n",
    "## Gio Fiore\n",
    "### 8/23/2024\n",
    "In this class I want to become more **proficient** in *Python*\n",
    "\n",
    "This will help \n",
    "1. My resume\n",
    "2. Learning data science\n",
    "3. Expierence in EMAT\n",
    "\n",
    "![pug](https://i.guim.co.uk/img/media/fe1e34da640c5c56ed16f76ce6f994fa9343d09d/0_174_3408_2046/master/3408.jpg?width=1200&height=1200&quality=85&auto=format&fit=crop&s=67773a9d419786091c958b2ad08eae5e)"
   ]
  },
  {
   "cell_type": "code",
   "execution_count": null,
   "id": "a59d104a-a3e1-44a2-bd3e-a59b622220c3",
   "metadata": {},
   "outputs": [],
   "source": []
  }
 ],
 "metadata": {
  "kernelspec": {
   "display_name": "Python 3 (ipykernel)",
   "language": "python",
   "name": "python3"
  },
  "language_info": {
   "codemirror_mode": {
    "name": "ipython",
    "version": 3
   },
   "file_extension": ".py",
   "mimetype": "text/x-python",
   "name": "python",
   "nbconvert_exporter": "python",
   "pygments_lexer": "ipython3",
   "version": "3.12.4"
  }
 },
 "nbformat": 4,
 "nbformat_minor": 5
}
